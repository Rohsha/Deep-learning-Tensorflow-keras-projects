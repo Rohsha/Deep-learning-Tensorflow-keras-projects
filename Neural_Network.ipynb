{
  "nbformat": 4,
  "nbformat_minor": 0,
  "metadata": {
    "colab": {
      "name": "Neural Network.ipynb",
      "provenance": [],
      "authorship_tag": "ABX9TyMDhT4xb5BGNv5RnBBbBVRd",
      "include_colab_link": true
    },
    "kernelspec": {
      "name": "python3",
      "display_name": "Python 3"
    }
  },
  "cells": [
    {
      "cell_type": "markdown",
      "metadata": {
        "id": "view-in-github",
        "colab_type": "text"
      },
      "source": [
        "<a href=\"https://colab.research.google.com/github/Rohsha/Neural-Network-Projects/blob/master/Neural_Network.ipynb\" target=\"_parent\"><img src=\"https://colab.research.google.com/assets/colab-badge.svg\" alt=\"Open In Colab\"/></a>"
      ]
    },
    {
      "cell_type": "markdown",
      "metadata": {
        "id": "mp8H-QesAvOe",
        "colab_type": "text"
      },
      "source": [
        "#Mention the number of hidden layers,input an output layer nodes when creating object"
      ]
    },
    {
      "cell_type": "code",
      "metadata": {
        "id": "gzxn14yL_Fx6",
        "colab_type": "code",
        "colab": {}
      },
      "source": [
        " class neuralNetwork:\n",
        "\n",
        "  def __init__(self,inputnodes,hiddennodes,outputnodes,learningrate):\n",
        "    self.inodes=inputnodes\n",
        "    self.hnodes=hiddennodes\n",
        "    self.onodes=outputnodes\n",
        "    self.lr=learningrate\n",
        "    #link weight matrices,wih and who(weight input hidden,weight output hidden)\n",
        "    # weights inside the arrays are w_i_j, where link is from node i to node j in the next layer\n",
        "    # w11 w21\n",
        "    self.wih=numpy.random.normal(0.0,pow(self.hnodes,-0.5),(self.hnodes,self.inodes))\n",
        "    self.who=numpy.random.normal(0.0,pow(self.onodes,-0.5),(self.onodes,self.hnodes))\n",
        "    self.activation_function=lambda x:scipy.special.expit(x)\n",
        "    pass\n",
        "  def train(self,inputs_list,targets_list):\n",
        "    inputs=numpy.array(inputs_list,ndmin=2).T\n",
        "    targets=numpy.array(targets_list,ndmin=2).T\n",
        "    #calculate signals in to hidden layer\n",
        "    hidden_inputs=numpy.dot(self.wih,inputs)\n",
        "    #calculate signals emerging from hidden layer\n",
        "    hidden_outputs=self.activation_function(hidden_inputs)\n",
        "    #calculate signals in to final output layer\n",
        "    final_inputs=numpy.dot(self.who,hidden_outputs)\n",
        "    final_outputs=self.activation_function(final_inputs)\n",
        "    output_errors=targets_list-final_outputs\n",
        "    # update the weights for the links between the hidden and output layers\n",
        "    self.who += self.lr * numpy.dot((output_errors * final_outputs * (1.0 - final_outputs)), numpy.transpose(hidden_outputs))\n",
        "    # update the weights for the links between the input and hidden layers\n",
        "    self.wih += self.lr * numpy.dot((hidden_errors * hidden_outputs * (1.0 - hidden_outputs)), numpy.transpose(inputs))\n",
        "    pass\n",
        "    #calculate signals \n",
        "  def query(self,inputs_list):\n",
        "    inputs=numpy.array(inputs_list,ndmin=2).T\n",
        "    print(inputs)\n",
        "    #calculate signals into hidden layer\n",
        "    hidden_inputs=numpy.dot(self.wih,inputs)\n",
        "    # calculate the signals emerging from hidden layer\n",
        "    hidden_outputs=self.activation_function(hidden_inputs)\n",
        "    #calculate signals in to final output llayer\n",
        "    final_inputs=numpy.dot(self.who,hidden_outputs)\n",
        "    # calculate the signals in to final output lyer\n",
        "    final_outputs=self.activation_function(final_inputs)\n",
        "    return final_outputs\n"
      ],
      "execution_count": 0,
      "outputs": []
    },
    {
      "cell_type": "code",
      "metadata": {
        "id": "t67JpXzRBBqw",
        "colab_type": "code",
        "outputId": "b98c9dfd-c7d6-4b08-862f-f22bde2ca4e6",
        "colab": {
          "base_uri": "https://localhost:8080/",
          "height": 35
        }
      },
      "source": [
        "import scipy.special\n",
        "import numpy\n",
        "\n",
        "#number of input,hidden and output nodes\n",
        "input_nodes=3\n",
        "hidden_nodes=3\n",
        "output_nodes=3\n",
        "learning_rate=0.3\n",
        "#create instance of neural network\n",
        "n=neuralNetwork(input_nodes,hidden_nodes,output_nodes,learning_rate)\n",
        "print(n)"
      ],
      "execution_count": 19,
      "outputs": [
        {
          "output_type": "stream",
          "text": [
            "<__main__.neuralNetwork object at 0x7f6c63d55908>\n"
          ],
          "name": "stdout"
        }
      ]
    },
    {
      "cell_type": "code",
      "metadata": {
        "id": "a2-MSh_ZG_cf",
        "colab_type": "code",
        "colab": {}
      },
      "source": [
        ""
      ],
      "execution_count": 0,
      "outputs": []
    }
  ]
}